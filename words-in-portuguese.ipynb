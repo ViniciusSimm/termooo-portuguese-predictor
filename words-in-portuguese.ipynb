{
 "cells": [
  {
   "cell_type": "code",
   "execution_count": 85,
   "metadata": {},
   "outputs": [],
   "source": [
    "import pandas as pd\n",
    "import numpy as np\n",
    "\n",
    "data = pd.read_csv('DELAS_PB.txt', header = None)"
   ]
  },
  {
   "cell_type": "code",
   "execution_count": 86,
   "metadata": {},
   "outputs": [],
   "source": [
    "list_of_words = data[0].unique()"
   ]
  },
  {
   "cell_type": "code",
   "execution_count": 87,
   "metadata": {},
   "outputs": [
    {
     "data": {
      "text/plain": [
       "3637"
      ]
     },
     "execution_count": 87,
     "metadata": {},
     "output_type": "execute_result"
    }
   ],
   "source": [
    "from unidecode import unidecode\n",
    "\n",
    "words_5_chars = list()\n",
    "\n",
    "for word in list_of_words:\n",
    "    if len(word) == 5:\n",
    "        word = unidecode(word)\n",
    "        words_5_chars.append(word)\n",
    "\n",
    "len(words_5_chars)"
   ]
  },
  {
   "cell_type": "code",
   "execution_count": 88,
   "metadata": {},
   "outputs": [],
   "source": [
    "# import collections\n",
    "\n",
    "# frequency = collections.Counter(words_5_chars)\n",
    "\n",
    "# frequency"
   ]
  },
  {
   "cell_type": "code",
   "execution_count": 89,
   "metadata": {},
   "outputs": [],
   "source": [
    "words = []\n",
    "bag_of_letters = []\n",
    "for word in words_5_chars:\n",
    "\n",
    "    letters = []\n",
    "    for letter in word:\n",
    "        letters.append(letter)\n",
    "        bag_of_letters.append(letter)\n",
    "\n",
    "    \n",
    "    words.append(letters)\n",
    "\n",
    "dataframe_words = pd.DataFrame(words)"
   ]
  },
  {
   "cell_type": "code",
   "execution_count": 90,
   "metadata": {},
   "outputs": [],
   "source": [
    "import collections\n",
    "frequency = collections.Counter(bag_of_letters)\n",
    "dataframe_letters = pd.DataFrame(bag_of_letters,columns=['letter'])\n",
    "most_used_letters = dataframe_letters['letter'].value_counts()"
   ]
  },
  {
   "cell_type": "code",
   "execution_count": 94,
   "metadata": {},
   "outputs": [],
   "source": [
    "list_of_pontuations = []\n",
    "\n",
    "for i in np.arange(dataframe_words.shape[0]):\n",
    "    pontuation_word = 0\n",
    "    for letter in dataframe_words.iloc[i].unique():\n",
    "        pontuation_word += most_used_letters[letter]\n",
    "    list_of_pontuations.append(pontuation_word)\n"
   ]
  },
  {
   "cell_type": "code",
   "execution_count": 95,
   "metadata": {},
   "outputs": [],
   "source": [
    "dataframe_words['points'] = list_of_pontuations"
   ]
  },
  {
   "cell_type": "code",
   "execution_count": 98,
   "metadata": {},
   "outputs": [
    {
     "data": {
      "text/html": [
       "<div>\n",
       "<style scoped>\n",
       "    .dataframe tbody tr th:only-of-type {\n",
       "        vertical-align: middle;\n",
       "    }\n",
       "\n",
       "    .dataframe tbody tr th {\n",
       "        vertical-align: top;\n",
       "    }\n",
       "\n",
       "    .dataframe thead th {\n",
       "        text-align: right;\n",
       "    }\n",
       "</style>\n",
       "<table border=\"1\" class=\"dataframe\">\n",
       "  <thead>\n",
       "    <tr style=\"text-align: right;\">\n",
       "      <th></th>\n",
       "      <th>0</th>\n",
       "      <th>1</th>\n",
       "      <th>2</th>\n",
       "      <th>3</th>\n",
       "      <th>4</th>\n",
       "      <th>points</th>\n",
       "    </tr>\n",
       "  </thead>\n",
       "  <tbody>\n",
       "    <tr>\n",
       "      <th>2325</th>\n",
       "      <td>o</td>\n",
       "      <td>l</td>\n",
       "      <td>e</td>\n",
       "      <td>a</td>\n",
       "      <td>r</td>\n",
       "      <td>9083</td>\n",
       "    </tr>\n",
       "    <tr>\n",
       "      <th>2716</th>\n",
       "      <td>r</td>\n",
       "      <td>e</td>\n",
       "      <td>a</td>\n",
       "      <td>t</td>\n",
       "      <td>o</td>\n",
       "      <td>8990</td>\n",
       "    </tr>\n",
       "    <tr>\n",
       "      <th>242</th>\n",
       "      <td>a</td>\n",
       "      <td>r</td>\n",
       "      <td>e</td>\n",
       "      <td>t</td>\n",
       "      <td>o</td>\n",
       "      <td>8990</td>\n",
       "    </tr>\n",
       "    <tr>\n",
       "      <th>254</th>\n",
       "      <td>a</td>\n",
       "      <td>r</td>\n",
       "      <td>i</td>\n",
       "      <td>l</td>\n",
       "      <td>o</td>\n",
       "      <td>8952</td>\n",
       "    </tr>\n",
       "    <tr>\n",
       "      <th>311</th>\n",
       "      <td>a</td>\n",
       "      <td>u</td>\n",
       "      <td>r</td>\n",
       "      <td>e</td>\n",
       "      <td>o</td>\n",
       "      <td>8948</td>\n",
       "    </tr>\n",
       "    <tr>\n",
       "      <th>...</th>\n",
       "      <td>...</td>\n",
       "      <td>...</td>\n",
       "      <td>...</td>\n",
       "      <td>...</td>\n",
       "      <td>...</td>\n",
       "      <td>...</td>\n",
       "    </tr>\n",
       "    <tr>\n",
       "      <th>3577</th>\n",
       "      <td>x</td>\n",
       "      <td>e</td>\n",
       "      <td>x</td>\n",
       "      <td>e</td>\n",
       "      <td>u</td>\n",
       "      <td>2338</td>\n",
       "    </tr>\n",
       "    <tr>\n",
       "      <th>1701</th>\n",
       "      <td>j</td>\n",
       "      <td>e</td>\n",
       "      <td>s</td>\n",
       "      <td>s</td>\n",
       "      <td>e</td>\n",
       "      <td>2329</td>\n",
       "    </tr>\n",
       "    <tr>\n",
       "      <th>2201</th>\n",
       "      <td>m</td>\n",
       "      <td>u</td>\n",
       "      <td>t</td>\n",
       "      <td>u</td>\n",
       "      <td>m</td>\n",
       "      <td>2178</td>\n",
       "    </tr>\n",
       "    <tr>\n",
       "      <th>2181</th>\n",
       "      <td>m</td>\n",
       "      <td>u</td>\n",
       "      <td>c</td>\n",
       "      <td>u</td>\n",
       "      <td>m</td>\n",
       "      <td>2127</td>\n",
       "    </tr>\n",
       "    <tr>\n",
       "      <th>1705</th>\n",
       "      <td>j</td>\n",
       "      <td>i</td>\n",
       "      <td>m</td>\n",
       "      <td>m</td>\n",
       "      <td>y</td>\n",
       "      <td>2114</td>\n",
       "    </tr>\n",
       "  </tbody>\n",
       "</table>\n",
       "<p>3637 rows × 6 columns</p>\n",
       "</div>"
      ],
      "text/plain": [
       "      0  1  2  3  4  points\n",
       "2325  o  l  e  a  r    9083\n",
       "2716  r  e  a  t  o    8990\n",
       "242   a  r  e  t  o    8990\n",
       "254   a  r  i  l  o    8952\n",
       "311   a  u  r  e  o    8948\n",
       "...  .. .. .. .. ..     ...\n",
       "3577  x  e  x  e  u    2338\n",
       "1701  j  e  s  s  e    2329\n",
       "2201  m  u  t  u  m    2178\n",
       "2181  m  u  c  u  m    2127\n",
       "1705  j  i  m  m  y    2114\n",
       "\n",
       "[3637 rows x 6 columns]"
      ]
     },
     "execution_count": 98,
     "metadata": {},
     "output_type": "execute_result"
    }
   ],
   "source": [
    "dataframe_words.sort_values('points',ascending=False)"
   ]
  },
  {
   "cell_type": "code",
   "execution_count": null,
   "metadata": {},
   "outputs": [],
   "source": []
  }
 ],
 "metadata": {
  "interpreter": {
   "hash": "051f523ea69bc1770ecd2306c10409abac68aa2062faba780e671356775dd235"
  },
  "kernelspec": {
   "display_name": "Python 3.8.8 ('base')",
   "language": "python",
   "name": "python3"
  },
  "language_info": {
   "codemirror_mode": {
    "name": "ipython",
    "version": 3
   },
   "file_extension": ".py",
   "mimetype": "text/x-python",
   "name": "python",
   "nbconvert_exporter": "python",
   "pygments_lexer": "ipython3",
   "version": "3.8.8"
  },
  "orig_nbformat": 4
 },
 "nbformat": 4,
 "nbformat_minor": 2
}
